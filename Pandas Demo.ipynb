{
 "cells": [
  {
   "cell_type": "markdown",
   "id": "d42eef39",
   "metadata": {},
   "source": [
    "# Pandas"
   ]
  },
  {
   "cell_type": "markdown",
   "id": "01a0406a",
   "metadata": {},
   "source": [
    "## Importação do Pandas"
   ]
  },
  {
   "cell_type": "code",
   "execution_count": 1,
   "id": "30496046",
   "metadata": {},
   "outputs": [],
   "source": [
    "import pandas as pd"
   ]
  },
  {
   "cell_type": "markdown",
   "id": "50a64af0",
   "metadata": {},
   "source": [
    "## Criando um DataFrame"
   ]
  },
  {
   "cell_type": "code",
   "execution_count": 2,
   "id": "3a1bcacf",
   "metadata": {},
   "outputs": [
    {
     "data": {
      "text/html": [
       "<div>\n",
       "<style scoped>\n",
       "    .dataframe tbody tr th:only-of-type {\n",
       "        vertical-align: middle;\n",
       "    }\n",
       "\n",
       "    .dataframe tbody tr th {\n",
       "        vertical-align: top;\n",
       "    }\n",
       "\n",
       "    .dataframe thead th {\n",
       "        text-align: right;\n",
       "    }\n",
       "</style>\n",
       "<table border=\"1\" class=\"dataframe\">\n",
       "  <thead>\n",
       "    <tr style=\"text-align: right;\">\n",
       "      <th></th>\n",
       "    </tr>\n",
       "  </thead>\n",
       "  <tbody>\n",
       "  </tbody>\n",
       "</table>\n",
       "</div>"
      ],
      "text/plain": [
       "Empty DataFrame\n",
       "Columns: []\n",
       "Index: []"
      ]
     },
     "execution_count": 2,
     "metadata": {},
     "output_type": "execute_result"
    }
   ],
   "source": [
    "#vazio\n",
    "empty_df = pd.DataFrame()\n",
    "empty_df"
   ]
  },
  {
   "cell_type": "code",
   "execution_count": 3,
   "id": "24b5a1ff",
   "metadata": {},
   "outputs": [
    {
     "data": {
      "text/html": [
       "<div>\n",
       "<style scoped>\n",
       "    .dataframe tbody tr th:only-of-type {\n",
       "        vertical-align: middle;\n",
       "    }\n",
       "\n",
       "    .dataframe tbody tr th {\n",
       "        vertical-align: top;\n",
       "    }\n",
       "\n",
       "    .dataframe thead th {\n",
       "        text-align: right;\n",
       "    }\n",
       "</style>\n",
       "<table border=\"1\" class=\"dataframe\">\n",
       "  <thead>\n",
       "    <tr style=\"text-align: right;\">\n",
       "      <th></th>\n",
       "      <th>n</th>\n",
       "      <th>roman</th>\n",
       "      <th>english</th>\n",
       "    </tr>\n",
       "  </thead>\n",
       "  <tbody>\n",
       "    <tr>\n",
       "      <th>0</th>\n",
       "      <td>1</td>\n",
       "      <td>I</td>\n",
       "      <td>one</td>\n",
       "    </tr>\n",
       "    <tr>\n",
       "      <th>1</th>\n",
       "      <td>2</td>\n",
       "      <td>II</td>\n",
       "      <td>two</td>\n",
       "    </tr>\n",
       "    <tr>\n",
       "      <th>2</th>\n",
       "      <td>3</td>\n",
       "      <td>III</td>\n",
       "      <td>three</td>\n",
       "    </tr>\n",
       "  </tbody>\n",
       "</table>\n",
       "</div>"
      ],
      "text/plain": [
       "   n roman english\n",
       "0  1     I     one\n",
       "1  2    II     two\n",
       "2  3   III   three"
      ]
     },
     "execution_count": 3,
     "metadata": {},
     "output_type": "execute_result"
    }
   ],
   "source": [
    "# a partir de lista de dicionários\n",
    "from_list_of_dicts_df = pd.DataFrame([\n",
    "    {'n': 1, 'roman': 'I', 'english': 'one'},\n",
    "    {'n': 2, 'roman': 'II', 'english': 'two'},\n",
    "    {'n': 3, 'roman': 'III', 'english': 'three'}\n",
    "])\n",
    "from_list_of_dicts_df"
   ]
  },
  {
   "cell_type": "code",
   "execution_count": 4,
   "id": "a44e9e61",
   "metadata": {},
   "outputs": [
    {
     "data": {
      "text/html": [
       "<div>\n",
       "<style scoped>\n",
       "    .dataframe tbody tr th:only-of-type {\n",
       "        vertical-align: middle;\n",
       "    }\n",
       "\n",
       "    .dataframe tbody tr th {\n",
       "        vertical-align: top;\n",
       "    }\n",
       "\n",
       "    .dataframe thead th {\n",
       "        text-align: right;\n",
       "    }\n",
       "</style>\n",
       "<table border=\"1\" class=\"dataframe\">\n",
       "  <thead>\n",
       "    <tr style=\"text-align: right;\">\n",
       "      <th></th>\n",
       "      <th>name</th>\n",
       "      <th>color</th>\n",
       "    </tr>\n",
       "  </thead>\n",
       "  <tbody>\n",
       "    <tr>\n",
       "      <th>0</th>\n",
       "      <td>banana</td>\n",
       "      <td>yellow</td>\n",
       "    </tr>\n",
       "    <tr>\n",
       "      <th>1</th>\n",
       "      <td>apple</td>\n",
       "      <td>red</td>\n",
       "    </tr>\n",
       "    <tr>\n",
       "      <th>2</th>\n",
       "      <td>cucumber</td>\n",
       "      <td>green</td>\n",
       "    </tr>\n",
       "  </tbody>\n",
       "</table>\n",
       "</div>"
      ],
      "text/plain": [
       "       name   color\n",
       "0    banana  yellow\n",
       "1     apple     red\n",
       "2  cucumber   green"
      ]
     },
     "execution_count": 4,
     "metadata": {},
     "output_type": "execute_result"
    }
   ],
   "source": [
    "# a partir de dicionário de listas\n",
    "from_dict_of_lists_df = pd.DataFrame({\n",
    "    'name': ['banana', 'apple', 'cucumber'],\n",
    "    'color': ['yellow', 'red', 'green']\n",
    "})\n",
    "from_dict_of_lists_df"
   ]
  },
  {
   "cell_type": "code",
   "execution_count": 5,
   "id": "94cb6a88",
   "metadata": {},
   "outputs": [],
   "source": [
    "# a partir de arquivos csv (com separador ;)\n",
    "albums_df = pd.read_csv('albums.csv', sep=';')\n",
    "tracks_df = pd.read_csv('tracks.csv', sep=';')"
   ]
  },
  {
   "cell_type": "code",
   "execution_count": 6,
   "id": "1241ac63",
   "metadata": {},
   "outputs": [
    {
     "data": {
      "text/html": [
       "<div>\n",
       "<style scoped>\n",
       "    .dataframe tbody tr th:only-of-type {\n",
       "        vertical-align: middle;\n",
       "    }\n",
       "\n",
       "    .dataframe tbody tr th {\n",
       "        vertical-align: top;\n",
       "    }\n",
       "\n",
       "    .dataframe thead th {\n",
       "        text-align: right;\n",
       "    }\n",
       "</style>\n",
       "<table border=\"1\" class=\"dataframe\">\n",
       "  <thead>\n",
       "    <tr style=\"text-align: right;\">\n",
       "      <th></th>\n",
       "      <th>album</th>\n",
       "      <th>year</th>\n",
       "      <th>artist</th>\n",
       "    </tr>\n",
       "  </thead>\n",
       "  <tbody>\n",
       "    <tr>\n",
       "      <th>0</th>\n",
       "      <td>Meddle</td>\n",
       "      <td>1971</td>\n",
       "      <td>Pink Floyd</td>\n",
       "    </tr>\n",
       "    <tr>\n",
       "      <th>1</th>\n",
       "      <td>The Dark Side of the Moon</td>\n",
       "      <td>1973</td>\n",
       "      <td>Pink Floyd</td>\n",
       "    </tr>\n",
       "    <tr>\n",
       "      <th>2</th>\n",
       "      <td>The Division Bell</td>\n",
       "      <td>1994</td>\n",
       "      <td>Pink Floyd</td>\n",
       "    </tr>\n",
       "    <tr>\n",
       "      <th>3</th>\n",
       "      <td>Foxtrot</td>\n",
       "      <td>1972</td>\n",
       "      <td>Genesis</td>\n",
       "    </tr>\n",
       "    <tr>\n",
       "      <th>4</th>\n",
       "      <td>Selling England by the Pound</td>\n",
       "      <td>1973</td>\n",
       "      <td>Genesis</td>\n",
       "    </tr>\n",
       "    <tr>\n",
       "      <th>5</th>\n",
       "      <td>Duke</td>\n",
       "      <td>1980</td>\n",
       "      <td>Genesis</td>\n",
       "    </tr>\n",
       "    <tr>\n",
       "      <th>6</th>\n",
       "      <td>Fragile</td>\n",
       "      <td>1971</td>\n",
       "      <td>Yes</td>\n",
       "    </tr>\n",
       "    <tr>\n",
       "      <th>7</th>\n",
       "      <td>Close to the Edge</td>\n",
       "      <td>1972</td>\n",
       "      <td>Yes</td>\n",
       "    </tr>\n",
       "  </tbody>\n",
       "</table>\n",
       "</div>"
      ],
      "text/plain": [
       "                          album  year      artist\n",
       "0                        Meddle  1971  Pink Floyd\n",
       "1     The Dark Side of the Moon  1973  Pink Floyd\n",
       "2             The Division Bell  1994  Pink Floyd\n",
       "3                       Foxtrot  1972     Genesis\n",
       "4  Selling England by the Pound  1973     Genesis\n",
       "5                          Duke  1980     Genesis\n",
       "6                       Fragile  1971         Yes\n",
       "7             Close to the Edge  1972         Yes"
      ]
     },
     "execution_count": 6,
     "metadata": {},
     "output_type": "execute_result"
    }
   ],
   "source": [
    "albums_df"
   ]
  },
  {
   "cell_type": "markdown",
   "id": "7f4f9c68",
   "metadata": {},
   "source": [
    "## Selecionando colunas"
   ]
  },
  {
   "cell_type": "code",
   "execution_count": 7,
   "id": "8e1220fe",
   "metadata": {},
   "outputs": [
    {
     "data": {
      "text/plain": [
       "0                          Meddle\n",
       "1       The Dark Side of the Moon\n",
       "2               The Division Bell\n",
       "3                         Foxtrot\n",
       "4    Selling England by the Pound\n",
       "5                            Duke\n",
       "6                         Fragile\n",
       "7               Close to the Edge\n",
       "Name: album, dtype: object"
      ]
     },
     "execution_count": 7,
     "metadata": {},
     "output_type": "execute_result"
    }
   ],
   "source": [
    "albums_df['album']"
   ]
  },
  {
   "cell_type": "code",
   "execution_count": 8,
   "id": "cde467e0",
   "metadata": {},
   "outputs": [
    {
     "data": {
      "text/html": [
       "<div>\n",
       "<style scoped>\n",
       "    .dataframe tbody tr th:only-of-type {\n",
       "        vertical-align: middle;\n",
       "    }\n",
       "\n",
       "    .dataframe tbody tr th {\n",
       "        vertical-align: top;\n",
       "    }\n",
       "\n",
       "    .dataframe thead th {\n",
       "        text-align: right;\n",
       "    }\n",
       "</style>\n",
       "<table border=\"1\" class=\"dataframe\">\n",
       "  <thead>\n",
       "    <tr style=\"text-align: right;\">\n",
       "      <th></th>\n",
       "      <th>album</th>\n",
       "      <th>year</th>\n",
       "    </tr>\n",
       "  </thead>\n",
       "  <tbody>\n",
       "    <tr>\n",
       "      <th>0</th>\n",
       "      <td>Meddle</td>\n",
       "      <td>1971</td>\n",
       "    </tr>\n",
       "    <tr>\n",
       "      <th>1</th>\n",
       "      <td>The Dark Side of the Moon</td>\n",
       "      <td>1973</td>\n",
       "    </tr>\n",
       "    <tr>\n",
       "      <th>2</th>\n",
       "      <td>The Division Bell</td>\n",
       "      <td>1994</td>\n",
       "    </tr>\n",
       "    <tr>\n",
       "      <th>3</th>\n",
       "      <td>Foxtrot</td>\n",
       "      <td>1972</td>\n",
       "    </tr>\n",
       "    <tr>\n",
       "      <th>4</th>\n",
       "      <td>Selling England by the Pound</td>\n",
       "      <td>1973</td>\n",
       "    </tr>\n",
       "    <tr>\n",
       "      <th>5</th>\n",
       "      <td>Duke</td>\n",
       "      <td>1980</td>\n",
       "    </tr>\n",
       "    <tr>\n",
       "      <th>6</th>\n",
       "      <td>Fragile</td>\n",
       "      <td>1971</td>\n",
       "    </tr>\n",
       "    <tr>\n",
       "      <th>7</th>\n",
       "      <td>Close to the Edge</td>\n",
       "      <td>1972</td>\n",
       "    </tr>\n",
       "  </tbody>\n",
       "</table>\n",
       "</div>"
      ],
      "text/plain": [
       "                          album  year\n",
       "0                        Meddle  1971\n",
       "1     The Dark Side of the Moon  1973\n",
       "2             The Division Bell  1994\n",
       "3                       Foxtrot  1972\n",
       "4  Selling England by the Pound  1973\n",
       "5                          Duke  1980\n",
       "6                       Fragile  1971\n",
       "7             Close to the Edge  1972"
      ]
     },
     "execution_count": 8,
     "metadata": {},
     "output_type": "execute_result"
    }
   ],
   "source": [
    "albums_df[['album', 'year']]"
   ]
  },
  {
   "cell_type": "markdown",
   "id": "d3877662",
   "metadata": {},
   "source": [
    "## Selecionando linhas"
   ]
  },
  {
   "cell_type": "code",
   "execution_count": 9,
   "id": "468e16b8",
   "metadata": {
    "scrolled": true
   },
   "outputs": [
    {
     "data": {
      "text/plain": [
       "album         Meddle\n",
       "year            1971\n",
       "artist    Pink Floyd\n",
       "Name: 0, dtype: object"
      ]
     },
     "execution_count": 9,
     "metadata": {},
     "output_type": "execute_result"
    }
   ],
   "source": [
    "albums_df.iloc[0]"
   ]
  },
  {
   "cell_type": "code",
   "execution_count": 10,
   "id": "dd2a8bba",
   "metadata": {},
   "outputs": [
    {
     "data": {
      "text/html": [
       "<div>\n",
       "<style scoped>\n",
       "    .dataframe tbody tr th:only-of-type {\n",
       "        vertical-align: middle;\n",
       "    }\n",
       "\n",
       "    .dataframe tbody tr th {\n",
       "        vertical-align: top;\n",
       "    }\n",
       "\n",
       "    .dataframe thead th {\n",
       "        text-align: right;\n",
       "    }\n",
       "</style>\n",
       "<table border=\"1\" class=\"dataframe\">\n",
       "  <thead>\n",
       "    <tr style=\"text-align: right;\">\n",
       "      <th></th>\n",
       "      <th>album</th>\n",
       "      <th>year</th>\n",
       "      <th>artist</th>\n",
       "    </tr>\n",
       "  </thead>\n",
       "  <tbody>\n",
       "    <tr>\n",
       "      <th>0</th>\n",
       "      <td>Meddle</td>\n",
       "      <td>1971</td>\n",
       "      <td>Pink Floyd</td>\n",
       "    </tr>\n",
       "    <tr>\n",
       "      <th>1</th>\n",
       "      <td>The Dark Side of the Moon</td>\n",
       "      <td>1973</td>\n",
       "      <td>Pink Floyd</td>\n",
       "    </tr>\n",
       "  </tbody>\n",
       "</table>\n",
       "</div>"
      ],
      "text/plain": [
       "                       album  year      artist\n",
       "0                     Meddle  1971  Pink Floyd\n",
       "1  The Dark Side of the Moon  1973  Pink Floyd"
      ]
     },
     "execution_count": 10,
     "metadata": {},
     "output_type": "execute_result"
    }
   ],
   "source": [
    "albums_df.loc[[0, 1]]"
   ]
  },
  {
   "cell_type": "markdown",
   "id": "ff0251f1",
   "metadata": {},
   "source": [
    "## Selecionando valores"
   ]
  },
  {
   "cell_type": "code",
   "execution_count": 11,
   "id": "56468721",
   "metadata": {},
   "outputs": [
    {
     "data": {
      "text/plain": [
       "'Meddle'"
      ]
     },
     "execution_count": 11,
     "metadata": {},
     "output_type": "execute_result"
    }
   ],
   "source": [
    "albums_df['album'].iloc[0]"
   ]
  },
  {
   "cell_type": "code",
   "execution_count": 12,
   "id": "8762f639",
   "metadata": {},
   "outputs": [
    {
     "data": {
      "text/plain": [
       "'Meddle'"
      ]
     },
     "execution_count": 12,
     "metadata": {},
     "output_type": "execute_result"
    }
   ],
   "source": [
    "albums_df.iloc[0]['album']"
   ]
  },
  {
   "cell_type": "markdown",
   "id": "d7449b53",
   "metadata": {},
   "source": [
    "## Operações sobre Series"
   ]
  },
  {
   "cell_type": "code",
   "execution_count": 13,
   "id": "901fc98d",
   "metadata": {},
   "outputs": [],
   "source": [
    "series1 = pd.Series([1, 1, 2, 3])\n",
    "series2 = pd.Series([1, 2, 3, 4])"
   ]
  },
  {
   "cell_type": "code",
   "execution_count": 14,
   "id": "0f1502c9",
   "metadata": {},
   "outputs": [
    {
     "data": {
      "text/plain": [
       "0    2\n",
       "1    3\n",
       "2    5\n",
       "3    7\n",
       "dtype: int64"
      ]
     },
     "execution_count": 14,
     "metadata": {},
     "output_type": "execute_result"
    }
   ],
   "source": [
    "series1 + series2"
   ]
  },
  {
   "cell_type": "code",
   "execution_count": 15,
   "id": "fd513994",
   "metadata": {},
   "outputs": [
    {
     "data": {
      "text/plain": [
       "0     True\n",
       "1    False\n",
       "2    False\n",
       "3    False\n",
       "dtype: bool"
      ]
     },
     "execution_count": 15,
     "metadata": {},
     "output_type": "execute_result"
    }
   ],
   "source": [
    "series1 == series2"
   ]
  },
  {
   "cell_type": "code",
   "execution_count": 16,
   "id": "03c292f7",
   "metadata": {},
   "outputs": [],
   "source": [
    "series3 = pd.Series([True, False, True, False])\n",
    "series4 = pd.Series([True, True, False, False])"
   ]
  },
  {
   "cell_type": "code",
   "execution_count": 17,
   "id": "bbe103ef",
   "metadata": {},
   "outputs": [
    {
     "data": {
      "text/plain": [
       "0     True\n",
       "1    False\n",
       "2    False\n",
       "3    False\n",
       "dtype: bool"
      ]
     },
     "execution_count": 17,
     "metadata": {},
     "output_type": "execute_result"
    }
   ],
   "source": [
    "series3 & series4"
   ]
  },
  {
   "cell_type": "code",
   "execution_count": 18,
   "id": "a3b07e4a",
   "metadata": {},
   "outputs": [
    {
     "data": {
      "text/plain": [
       "0    False\n",
       "1     True\n",
       "2     True\n",
       "3    False\n",
       "dtype: bool"
      ]
     },
     "execution_count": 18,
     "metadata": {},
     "output_type": "execute_result"
    }
   ],
   "source": [
    "(series3 & ~series4) | (~series3 & series4)"
   ]
  },
  {
   "cell_type": "code",
   "execution_count": 19,
   "id": "92bfed4c",
   "metadata": {},
   "outputs": [
    {
     "data": {
      "text/plain": [
       "0    1.000000\n",
       "1    1.000000\n",
       "2    1.414214\n",
       "3    1.732051\n",
       "dtype: float64"
      ]
     },
     "execution_count": 19,
     "metadata": {},
     "output_type": "execute_result"
    }
   ],
   "source": [
    "from math import sqrt\n",
    "series1.apply(sqrt)"
   ]
  },
  {
   "cell_type": "code",
   "execution_count": 20,
   "id": "7a0554fe",
   "metadata": {},
   "outputs": [
    {
     "data": {
      "text/plain": [
       "0    1\n",
       "1    1\n",
       "2    4\n",
       "3    9\n",
       "dtype: int64"
      ]
     },
     "execution_count": 20,
     "metadata": {},
     "output_type": "execute_result"
    }
   ],
   "source": [
    "series1.apply(lambda n: n ** 2)"
   ]
  },
  {
   "cell_type": "markdown",
   "id": "b518aac3",
   "metadata": {},
   "source": [
    "## Filtragem de valores"
   ]
  },
  {
   "cell_type": "code",
   "execution_count": 21,
   "id": "577f328f",
   "metadata": {},
   "outputs": [
    {
     "data": {
      "text/html": [
       "<div>\n",
       "<style scoped>\n",
       "    .dataframe tbody tr th:only-of-type {\n",
       "        vertical-align: middle;\n",
       "    }\n",
       "\n",
       "    .dataframe tbody tr th {\n",
       "        vertical-align: top;\n",
       "    }\n",
       "\n",
       "    .dataframe thead th {\n",
       "        text-align: right;\n",
       "    }\n",
       "</style>\n",
       "<table border=\"1\" class=\"dataframe\">\n",
       "  <thead>\n",
       "    <tr style=\"text-align: right;\">\n",
       "      <th></th>\n",
       "      <th>album</th>\n",
       "      <th>year</th>\n",
       "      <th>artist</th>\n",
       "    </tr>\n",
       "  </thead>\n",
       "  <tbody>\n",
       "    <tr>\n",
       "      <th>3</th>\n",
       "      <td>Foxtrot</td>\n",
       "      <td>1972</td>\n",
       "      <td>Genesis</td>\n",
       "    </tr>\n",
       "    <tr>\n",
       "      <th>4</th>\n",
       "      <td>Selling England by the Pound</td>\n",
       "      <td>1973</td>\n",
       "      <td>Genesis</td>\n",
       "    </tr>\n",
       "    <tr>\n",
       "      <th>5</th>\n",
       "      <td>Duke</td>\n",
       "      <td>1980</td>\n",
       "      <td>Genesis</td>\n",
       "    </tr>\n",
       "    <tr>\n",
       "      <th>6</th>\n",
       "      <td>Fragile</td>\n",
       "      <td>1971</td>\n",
       "      <td>Yes</td>\n",
       "    </tr>\n",
       "    <tr>\n",
       "      <th>7</th>\n",
       "      <td>Close to the Edge</td>\n",
       "      <td>1972</td>\n",
       "      <td>Yes</td>\n",
       "    </tr>\n",
       "  </tbody>\n",
       "</table>\n",
       "</div>"
      ],
      "text/plain": [
       "                          album  year   artist\n",
       "3                       Foxtrot  1972  Genesis\n",
       "4  Selling England by the Pound  1973  Genesis\n",
       "5                          Duke  1980  Genesis\n",
       "6                       Fragile  1971      Yes\n",
       "7             Close to the Edge  1972      Yes"
      ]
     },
     "execution_count": 21,
     "metadata": {},
     "output_type": "execute_result"
    }
   ],
   "source": [
    "artist = albums_df['artist']\n",
    "albums_df[(artist == 'Yes') | (artist == 'Genesis')]"
   ]
  },
  {
   "cell_type": "code",
   "execution_count": 22,
   "id": "59ff13d2",
   "metadata": {},
   "outputs": [
    {
     "data": {
      "text/html": [
       "<div>\n",
       "<style scoped>\n",
       "    .dataframe tbody tr th:only-of-type {\n",
       "        vertical-align: middle;\n",
       "    }\n",
       "\n",
       "    .dataframe tbody tr th {\n",
       "        vertical-align: top;\n",
       "    }\n",
       "\n",
       "    .dataframe thead th {\n",
       "        text-align: right;\n",
       "    }\n",
       "</style>\n",
       "<table border=\"1\" class=\"dataframe\">\n",
       "  <thead>\n",
       "    <tr style=\"text-align: right;\">\n",
       "      <th></th>\n",
       "      <th>album</th>\n",
       "      <th>year</th>\n",
       "      <th>artist</th>\n",
       "    </tr>\n",
       "  </thead>\n",
       "  <tbody>\n",
       "    <tr>\n",
       "      <th>1</th>\n",
       "      <td>The Dark Side of the Moon</td>\n",
       "      <td>1973</td>\n",
       "      <td>Pink Floyd</td>\n",
       "    </tr>\n",
       "    <tr>\n",
       "      <th>4</th>\n",
       "      <td>Selling England by the Pound</td>\n",
       "      <td>1973</td>\n",
       "      <td>Genesis</td>\n",
       "    </tr>\n",
       "  </tbody>\n",
       "</table>\n",
       "</div>"
      ],
      "text/plain": [
       "                          album  year      artist\n",
       "1     The Dark Side of the Moon  1973  Pink Floyd\n",
       "4  Selling England by the Pound  1973     Genesis"
      ]
     },
     "execution_count": 22,
     "metadata": {},
     "output_type": "execute_result"
    }
   ],
   "source": [
    "albums_df[albums_df['year'] == 1973]"
   ]
  },
  {
   "cell_type": "markdown",
   "id": "cac40d8b",
   "metadata": {},
   "source": [
    "## Mesclagem de DataFrames"
   ]
  },
  {
   "cell_type": "code",
   "execution_count": 23,
   "id": "c991bebd",
   "metadata": {},
   "outputs": [
    {
     "data": {
      "text/html": [
       "<div>\n",
       "<style scoped>\n",
       "    .dataframe tbody tr th:only-of-type {\n",
       "        vertical-align: middle;\n",
       "    }\n",
       "\n",
       "    .dataframe tbody tr th {\n",
       "        vertical-align: top;\n",
       "    }\n",
       "\n",
       "    .dataframe thead th {\n",
       "        text-align: right;\n",
       "    }\n",
       "</style>\n",
       "<table border=\"1\" class=\"dataframe\">\n",
       "  <thead>\n",
       "    <tr style=\"text-align: right;\">\n",
       "      <th></th>\n",
       "      <th>album</th>\n",
       "      <th>year</th>\n",
       "      <th>artist</th>\n",
       "      <th>number</th>\n",
       "      <th>title</th>\n",
       "    </tr>\n",
       "  </thead>\n",
       "  <tbody>\n",
       "    <tr>\n",
       "      <th>0</th>\n",
       "      <td>Meddle</td>\n",
       "      <td>1971</td>\n",
       "      <td>Pink Floyd</td>\n",
       "      <td>1</td>\n",
       "      <td>One of These Days</td>\n",
       "    </tr>\n",
       "    <tr>\n",
       "      <th>1</th>\n",
       "      <td>Meddle</td>\n",
       "      <td>1971</td>\n",
       "      <td>Pink Floyd</td>\n",
       "      <td>2</td>\n",
       "      <td>A Pillow of Winds</td>\n",
       "    </tr>\n",
       "    <tr>\n",
       "      <th>2</th>\n",
       "      <td>Meddle</td>\n",
       "      <td>1971</td>\n",
       "      <td>Pink Floyd</td>\n",
       "      <td>3</td>\n",
       "      <td>Fearless</td>\n",
       "    </tr>\n",
       "    <tr>\n",
       "      <th>3</th>\n",
       "      <td>Meddle</td>\n",
       "      <td>1971</td>\n",
       "      <td>Pink Floyd</td>\n",
       "      <td>4</td>\n",
       "      <td>San Tropez</td>\n",
       "    </tr>\n",
       "    <tr>\n",
       "      <th>4</th>\n",
       "      <td>Meddle</td>\n",
       "      <td>1971</td>\n",
       "      <td>Pink Floyd</td>\n",
       "      <td>5</td>\n",
       "      <td>Seamus</td>\n",
       "    </tr>\n",
       "    <tr>\n",
       "      <th>...</th>\n",
       "      <td>...</td>\n",
       "      <td>...</td>\n",
       "      <td>...</td>\n",
       "      <td>...</td>\n",
       "      <td>...</td>\n",
       "    </tr>\n",
       "    <tr>\n",
       "      <th>59</th>\n",
       "      <td>Fragile</td>\n",
       "      <td>1971</td>\n",
       "      <td>Yes</td>\n",
       "      <td>8</td>\n",
       "      <td>Mood for a Day</td>\n",
       "    </tr>\n",
       "    <tr>\n",
       "      <th>60</th>\n",
       "      <td>Fragile</td>\n",
       "      <td>1971</td>\n",
       "      <td>Yes</td>\n",
       "      <td>9</td>\n",
       "      <td>Heart of the Sunrise</td>\n",
       "    </tr>\n",
       "    <tr>\n",
       "      <th>61</th>\n",
       "      <td>Close to the Edge</td>\n",
       "      <td>1972</td>\n",
       "      <td>Yes</td>\n",
       "      <td>1</td>\n",
       "      <td>Close to the Edge</td>\n",
       "    </tr>\n",
       "    <tr>\n",
       "      <th>62</th>\n",
       "      <td>Close to the Edge</td>\n",
       "      <td>1972</td>\n",
       "      <td>Yes</td>\n",
       "      <td>2</td>\n",
       "      <td>And You and I</td>\n",
       "    </tr>\n",
       "    <tr>\n",
       "      <th>63</th>\n",
       "      <td>Close to the Edge</td>\n",
       "      <td>1972</td>\n",
       "      <td>Yes</td>\n",
       "      <td>3</td>\n",
       "      <td>Siberian Khatru</td>\n",
       "    </tr>\n",
       "  </tbody>\n",
       "</table>\n",
       "<p>64 rows × 5 columns</p>\n",
       "</div>"
      ],
      "text/plain": [
       "                album  year      artist  number                 title\n",
       "0              Meddle  1971  Pink Floyd       1     One of These Days\n",
       "1              Meddle  1971  Pink Floyd       2     A Pillow of Winds\n",
       "2              Meddle  1971  Pink Floyd       3              Fearless\n",
       "3              Meddle  1971  Pink Floyd       4            San Tropez\n",
       "4              Meddle  1971  Pink Floyd       5                Seamus\n",
       "..                ...   ...         ...     ...                   ...\n",
       "59            Fragile  1971         Yes       8        Mood for a Day\n",
       "60            Fragile  1971         Yes       9  Heart of the Sunrise\n",
       "61  Close to the Edge  1972         Yes       1     Close to the Edge\n",
       "62  Close to the Edge  1972         Yes       2         And You and I\n",
       "63  Close to the Edge  1972         Yes       3       Siberian Khatru\n",
       "\n",
       "[64 rows x 5 columns]"
      ]
     },
     "execution_count": 23,
     "metadata": {},
     "output_type": "execute_result"
    }
   ],
   "source": [
    "albums_df.merge(tracks_df, how='inner', on='album')"
   ]
  },
  {
   "cell_type": "markdown",
   "id": "436dc532",
   "metadata": {},
   "source": [
    "## Exportação de dados"
   ]
  },
  {
   "cell_type": "code",
   "execution_count": 31,
   "id": "2fe8c130",
   "metadata": {},
   "outputs": [],
   "source": [
    "albums_df.to_json('out.json')\n",
    "albums_df.to_csv('out.csv')"
   ]
  }
 ],
 "metadata": {
  "kernelspec": {
   "display_name": "Python 3 (ipykernel)",
   "language": "python",
   "name": "python3"
  },
  "language_info": {
   "codemirror_mode": {
    "name": "ipython",
    "version": 3
   },
   "file_extension": ".py",
   "mimetype": "text/x-python",
   "name": "python",
   "nbconvert_exporter": "python",
   "pygments_lexer": "ipython3",
   "version": "3.10.16"
  }
 },
 "nbformat": 4,
 "nbformat_minor": 5
}
